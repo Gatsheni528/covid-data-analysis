{
 "cells": [
  {
   "cell_type": "markdown",
   "id": "3a354a27",
   "metadata": {},
   "source": [
    "# COVID-19 Data Analysis\n",
    "\n",
    "This notebook analyzes global COVID-19 data using the Our World in Data dataset. It includes data loading, exploration, and various visualizations to understand pandemic trends."
   ]
  },
  {
   "cell_type": "code",
   "execution_count": null,
   "id": "1125bd3d",
   "metadata": {},
   "outputs": [],
   "source": [
    "import pandas as pd\n",
    "import matplotlib.pyplot as plt\n",
    "import seaborn as sns\n",
    "\n",
    "sns.set(style='darkgrid')"
   ]
  },
  {
   "cell_type": "code",
   "execution_count": null,
   "id": "3fd1146b",
   "metadata": {},
   "outputs": [],
   "source": [
    "df = pd.read_csv('owid-covid-data.csv')\n",
    "df['date'] = pd.to_datetime(df['date'])\n",
    "df.shape"
   ]
  },
  {
   "cell_type": "code",
   "execution_count": null,
   "id": "d936ef7a",
   "metadata": {},
   "outputs": [],
   "source": [
    "df.info()"
   ]
  },
  {
   "cell_type": "code",
   "execution_count": null,
   "id": "7d88f2ea",
   "metadata": {},
   "outputs": [],
   "source": [
    "df.head()"
   ]
  },
  {
   "cell_type": "markdown",
   "id": "6fce5a3f",
   "metadata": {},
   "source": [
    "## Daily New COVID-19 Cases in South Africa"
   ]
  },
  {
   "cell_type": "code",
   "execution_count": null,
   "id": "b3c74337",
   "metadata": {},
   "outputs": [],
   "source": [
    "sa_df = df[df['location'] == 'South Africa']\n",
    "plt.figure(figsize=(12, 5))\n",
    "plt.plot(sa_df['date'], sa_df['new_cases'], label='New Cases')\n",
    "plt.title('Daily New COVID-19 Cases in South Africa')\n",
    "plt.xlabel('Date')\n",
    "plt.ylabel('New Cases')\n",
    "plt.legend()\n",
    "plt.tight_layout()\n",
    "plt.show()"
   ]
  },
  {
   "cell_type": "markdown",
   "id": "a8dee24b",
   "metadata": {},
   "source": [
    "## Daily New COVID-19 Cases (Top 5 Countries)"
   ]
  },
  {
   "cell_type": "code",
   "execution_count": null,
   "id": "0af63ec6",
   "metadata": {},
   "outputs": [],
   "source": [
    "countries = ['South Africa', 'India', 'United States', 'Brazil', 'United Kingdom']\n",
    "subset = df[df['location'].isin(countries)]\n",
    "plt.figure(figsize=(14, 6))\n",
    "for country in countries:\n",
    "    country_data = subset[subset['location'] == country]\n",
    "    plt.plot(country_data['date'], country_data['new_cases'], label=country)\n",
    "plt.title('Daily New COVID-19 Cases (Top 5 Countries)')\n",
    "plt.xlabel('Date')\n",
    "plt.ylabel('New Cases')\n",
    "plt.legend()\n",
    "plt.tight_layout()\n",
    "plt.show()"
   ]
  },
  {
   "cell_type": "markdown",
   "id": "a19177e6",
   "metadata": {},
   "source": [
    "## Total COVID-19 Deaths by Continent"
   ]
  },
  {
   "cell_type": "code",
   "execution_count": null,
   "id": "9b740522",
   "metadata": {},
   "outputs": [],
   "source": [
    "latest_date = df['date'].max()\n",
    "latest_df = df[df['date'] == latest_date]\n",
    "continent_deaths = latest_df.groupby('continent')['total_deaths'].sum().dropna()\n",
    "continent_deaths.sort_values().plot(kind='barh', figsize=(10, 5), color='tomato')\n",
    "plt.title(f'Total COVID-19 Deaths by Continent as of {latest_date.date()}')\n",
    "plt.xlabel('Total Deaths')\n",
    "plt.ylabel('Continent')\n",
    "plt.tight_layout()\n",
    "plt.show()"
   ]
  },
  {
   "cell_type": "markdown",
   "id": "1dbd4186",
   "metadata": {},
   "source": [
    "## Top 5 Countries by Total Vaccinations"
   ]
  },
  {
   "cell_type": "code",
   "execution_count": null,
   "id": "d4d98f3c",
   "metadata": {},
   "outputs": [],
   "source": [
    "latest_vax = latest_df[['location', 'total_vaccinations']].dropna()\n",
    "top_vax = latest_vax.sort_values('total_vaccinations', ascending=False).head(5)\n",
    "plt.figure(figsize=(10, 6))\n",
    "sns.barplot(data=top_vax, y='location', x='total_vaccinations', palette='viridis')\n",
    "plt.title(f'Top 5 Countries by Total Vaccinations as of {latest_date.date()}')\n",
    "plt.xlabel('Total Vaccinations')\n",
    "plt.ylabel('Country')\n",
    "plt.tight_layout()\n",
    "plt.show()"
   ]
  },
  {
   "cell_type": "markdown",
   "id": "78df07a3",
   "metadata": {},
   "source": [
    "## South Africa: Total Cases vs. Total Deaths Over Time"
   ]
  },
  {
   "cell_type": "code",
   "execution_count": null,
   "id": "13331f49",
   "metadata": {},
   "outputs": [],
   "source": [
    "plt.figure(figsize=(12, 5))\n",
    "plt.plot(sa_df['date'], sa_df['total_cases'], label='Total Cases', color='blue')\n",
    "plt.plot(sa_df['date'], sa_df['total_deaths'], label='Total Deaths', color='red')\n",
    "plt.title('South Africa: Total Cases vs. Total Deaths Over Time')\n",
    "plt.xlabel('Date')\n",
    "plt.ylabel('Count')\n",
    "plt.legend()\n",
    "plt.tight_layout()\n",
    "plt.show()"
   ]
  },
  {
   "cell_type": "markdown",
   "id": "c6ef30b8",
   "metadata": {},
   "source": [
    "## Global Daily New Cases vs. New Deaths"
   ]
  },
  {
   "cell_type": "code",
   "execution_count": null,
   "id": "2cc50c51",
   "metadata": {},
   "outputs": [],
   "source": [
    "global_df = df.groupby('date')[['new_cases', 'new_deaths']].sum().reset_index()\n",
    "plt.figure(figsize=(14, 5))\n",
    "plt.plot(global_df['date'], global_df['new_cases'], label='New Cases', color='blue')\n",
    "plt.plot(global_df['date'], global_df['new_deaths'], label='New Deaths', color='red')\n",
    "plt.title('Global Daily New COVID-19 Cases and Deaths')\n",
    "plt.xlabel('Date')\n",
    "plt.ylabel('Count')\n",
    "plt.legend()\n",
    "plt.tight_layout()\n",
    "plt.show()"
   ]
  },
  {
   "cell_type": "markdown",
   "id": "96d02548",
   "metadata": {},
   "source": [
    "## Summary and Insights\n",
    "- The dataset offers a detailed time series of COVID-19 metrics globally.\n",
    "- Daily new cases reveal pandemic waves in each region.\n",
    "- Deaths by continent reflect regional population and healthcare impacts.\n",
    "- Vaccination progress varies widely across countries.\n",
    "- Visualizations make trends and comparisons much easier to understand."
   ]
  }
 ],
 "metadata": {},
 "nbformat": 4,
 "nbformat_minor": 5
}